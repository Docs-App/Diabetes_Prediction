{
 "cells": [
  {
   "cell_type": "code",
   "execution_count": 19,
   "metadata": {},
   "outputs": [],
   "source": [
    "import tkinter as tk\n",
    "from tkinter import messagebox\n",
    "main=tk.Tk()\n",
    "import ml\n",
    "y=0\n",
    "def cal():\n",
    "    y=ml.pr(preg.get(),glu.get(),blood.get(),skin.get(),ins.get(),bmi.get(),pdf.get(),age.get())\n",
    "    if y==1:\n",
    "        messagebox.showinfo(\"Prediction\",\"Diebetes test is Positive.\\n(Mean u have diebetes)\")\n",
    "    else:\n",
    "        messagebox.showinfo(\"Prediction\",\"Diebetes test is Negative.\\n(Mean u dont have diebetes)\")\n",
    "    #print(ml.pr(preg.get(),glu.get(),blood.get(),skin.get(),ins.get(),bmi.get(),pdf.get(),age.get()))\n",
    "\n",
    "preg=tk.IntVar()\n",
    "glu=tk.IntVar()\n",
    "blood=tk.IntVar()\n",
    "skin=tk.IntVar()\n",
    "bmi=tk.IntVar()\n",
    "age=tk.IntVar()\n",
    "ins=tk.IntVar()\n",
    "pdf=tk.IntVar()\n",
    "\n",
    "def diebetes():\n",
    "    tk.Label(main,text=\"Pregnencies\").pack()\n",
    "    tk.Entry(main,textvariable=preg).pack()\n",
    "    \n",
    "    tk.Label(main,text=\"Glucose\").pack()\n",
    "    tk.Entry(main,textvariable=glu).pack()\n",
    "    \n",
    "    tk.Label(main,text=\"Blood Pressure\").pack()\n",
    "    tk.Entry(main,textvariable=blood).pack()\n",
    "    \n",
    "    tk.Label(main,text=\"Skin Thickness\").pack()\n",
    "    tk.Entry(main,textvariable=skin).pack()\n",
    "    \n",
    "    tk.Label(main,text=\"insulin\").pack()\n",
    "    tk.Entry(main,textvariable=ins).pack()\n",
    "    \n",
    "    tk.Label(main,text=\"BMI\").pack()\n",
    "    tk.Entry(main,textvariable=bmi).pack()\n",
    "    \n",
    "    tk.Label(main,text=\"Pedgree function\").pack()\n",
    "    tk.Entry(main,textvariable=pdf).pack()\n",
    "    \n",
    "    tk.Label(main,text=\"Age\").pack()\n",
    "    tk.Entry(main,textvariable=age).pack()\n",
    "    \n",
    "    tk.Button(text=\"Check\",command=cal).pack()\n",
    "    \n",
    "    \n",
    "diebetes()\n",
    "main.mainloop()"
   ]
  },
  {
   "cell_type": "code",
   "execution_count": null,
   "metadata": {},
   "outputs": [],
   "source": []
  }
 ],
 "metadata": {
  "kernelspec": {
   "display_name": "Python 3",
   "language": "python",
   "name": "python3"
  },
  "language_info": {
   "codemirror_mode": {
    "name": "ipython",
    "version": 3
   },
   "file_extension": ".py",
   "mimetype": "text/x-python",
   "name": "python",
   "nbconvert_exporter": "python",
   "pygments_lexer": "ipython3",
   "version": "3.7.3"
  }
 },
 "nbformat": 4,
 "nbformat_minor": 2
}
